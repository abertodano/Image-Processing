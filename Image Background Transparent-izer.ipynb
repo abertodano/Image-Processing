{
 "cells": [
  {
   "cell_type": "code",
   "execution_count": 15,
   "id": "a1a5368e",
   "metadata": {},
   "outputs": [],
   "source": [
    "from PIL import Image #import image editor from Pillow"
   ]
  },
  {
   "cell_type": "code",
   "execution_count": 22,
   "id": "f5f91f2b",
   "metadata": {},
   "outputs": [],
   "source": [
    "def backgroundtrans(source,destination): #transparentizer function\n",
    "    img = Image.open(source) #open image path\n",
    "    img = img.convert('RGBA') #convert to a format in RGBA values and not whatever the fuck png actually is\n",
    "    RGBAs = img.getdata() #get an object holding RGBA values\n",
    "\n",
    "    newRGBAs = [] #create an array to hold new RGBA values\n",
    "    for _ in RGBAs: #for all pixels\n",
    "        if (_[0],_[1],_[2]) == (255,255,255): #if pixel is white\n",
    "            newRGBAs.append((255,255,255,0)) #make transparent by setting alpha = 0\n",
    "        else:\n",
    "            newRGBAs.append(_) #else keep pixel\n",
    "\n",
    "    img.putdata(newRGBAs) #put in the new values\n",
    "    img.save(destination, 'png') #save to destination path as a png\n",
    "    return"
   ]
  },
  {
   "cell_type": "code",
   "execution_count": 25,
   "id": "07f4b0f1",
   "metadata": {},
   "outputs": [],
   "source": [
    "sourcepath = 'Pygame/makinggamesfiles/grasshex.png' #set source image path\n",
    "destinationpath = 'Pygame/makinggamesfiles/grasshex.png' #set destination path\n",
    "backgroundtrans(sourcepath,destinationpath)"
   ]
  },
  {
   "cell_type": "code",
   "execution_count": null,
   "id": "95dcc2db-ecc0-48c4-a75c-9ca0fef6d8ae",
   "metadata": {},
   "outputs": [],
   "source": []
  }
 ],
 "metadata": {
  "kernelspec": {
   "display_name": "Python 3 (ipykernel)",
   "language": "python",
   "name": "python3"
  },
  "language_info": {
   "codemirror_mode": {
    "name": "ipython",
    "version": 3
   },
   "file_extension": ".py",
   "mimetype": "text/x-python",
   "name": "python",
   "nbconvert_exporter": "python",
   "pygments_lexer": "ipython3",
   "version": "3.9.17"
  }
 },
 "nbformat": 4,
 "nbformat_minor": 5
}
