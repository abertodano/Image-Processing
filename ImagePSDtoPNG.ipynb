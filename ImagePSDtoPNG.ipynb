{
 "cells": [
  {
   "cell_type": "code",
   "execution_count": 6,
   "id": "41729dd2-daff-49bb-851a-8a58cdea7cf0",
   "metadata": {},
   "outputs": [],
   "source": [
    "from PIL import Image #import image editor from Pillow"
   ]
  },
  {
   "cell_type": "code",
   "execution_count": 7,
   "id": "b85cbfac-59fe-4074-b09b-90157dc25b8c",
   "metadata": {},
   "outputs": [],
   "source": [
    "def PSDtoPNG(source,destination): #resave a psd image as png (doesn't delete psd)\n",
    "    img = Image.open(source) #open image path\n",
    "    img.save(destination, 'png') #re-save to destination path as a png\n",
    "    return"
   ]
  },
  {
   "cell_type": "code",
   "execution_count": 8,
   "id": "45ef0b8a-5e9f-4990-9ac5-3a828174d4fb",
   "metadata": {},
   "outputs": [],
   "source": [
    "sourcepath = 'Floor.psd' #set source image path\n",
    "destinationpath = 'Floor.png' #set destination path\n",
    "PSDtoPNG(sourcepath,destinationpath)"
   ]
  },
  {
   "cell_type": "code",
   "execution_count": null,
   "id": "01027a02-b49d-4896-8e10-18c610411b2a",
   "metadata": {},
   "outputs": [],
   "source": []
  }
 ],
 "metadata": {
  "kernelspec": {
   "display_name": "Python 3 (ipykernel)",
   "language": "python",
   "name": "python3"
  },
  "language_info": {
   "codemirror_mode": {
    "name": "ipython",
    "version": 3
   },
   "file_extension": ".py",
   "mimetype": "text/x-python",
   "name": "python",
   "nbconvert_exporter": "python",
   "pygments_lexer": "ipython3",
   "version": "3.9.17"
  }
 },
 "nbformat": 4,
 "nbformat_minor": 5
}
