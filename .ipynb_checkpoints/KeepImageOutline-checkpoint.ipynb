{
 "cells": [
  {
   "cell_type": "code",
   "execution_count": 1,
   "id": "a5ba6c8e-0368-490d-95ee-57ff552e8b2a",
   "metadata": {},
   "outputs": [],
   "source": [
    "from PIL import Image #import image editor from Pillow"
   ]
  },
  {
   "cell_type": "code",
   "execution_count": 10,
   "id": "3ef79456-f9c3-4283-a878-14d832dfc233",
   "metadata": {},
   "outputs": [],
   "source": [
    "def keepoutline(source,destination,thresh = 0.05): #transparentizer function, darkness threshold to keep point\n",
    "    img = Image.open(source) #open image path\n",
    "    img = img.convert('RGBA') #convert to a format in RGBA values and not whatever the fuck png/jpg actually is\n",
    "    RGBAs = img.getdata() #get an object holding RGBA values\n",
    "\n",
    "    newRGBAs = [] #create an array to hold new RGBA values\n",
    "    for _ in RGBAs: #for all pixels\n",
    "        if _[0]**2 + _[1]**2 + _[2]**2 < thresh**2*255**2*3: #if pixel is dark enough\n",
    "            newRGBAs.append((0,0,0,255)) #make dark, non-transparent\n",
    "        else:\n",
    "            newRGBAs.append((0,0,0,0)) #else set transparent\n",
    "\n",
    "    img.putdata(newRGBAs) #put in the new values\n",
    "    img.save(destination, 'png') #save to destination path as a png\n",
    "    return"
   ]
  },
  {
   "cell_type": "code",
   "execution_count": 14,
   "id": "60a5a497-a7cc-4841-83c8-61738bee6340",
   "metadata": {},
   "outputs": [],
   "source": [
    "sourcepath = '../TeoVideoFrames/Subimages/jellyfish.jpg' #set source image path\n",
    "destinationpath = '../TeoVideoFrames/Subimages/jellyfishoutline.jpg'  #set destination path\n",
    "keepoutline(sourcepath,destinationpath)"
   ]
  },
  {
   "cell_type": "code",
   "execution_count": null,
   "id": "cd8bfb15-fe41-4a1d-a3c1-e9a0e235da63",
   "metadata": {},
   "outputs": [],
   "source": []
  }
 ],
 "metadata": {
  "kernelspec": {
   "display_name": "Python 3 (ipykernel)",
   "language": "python",
   "name": "python3"
  },
  "language_info": {
   "codemirror_mode": {
    "name": "ipython",
    "version": 3
   },
   "file_extension": ".py",
   "mimetype": "text/x-python",
   "name": "python",
   "nbconvert_exporter": "python",
   "pygments_lexer": "ipython3",
   "version": "3.9.17"
  }
 },
 "nbformat": 4,
 "nbformat_minor": 5
}
